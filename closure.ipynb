{
 "cells": [
  {
   "cell_type": "markdown",
   "metadata": {},
   "source": [
    "# Python closures: how to use them and how to avoid them!\n",
    "A _closure_ is an attribute of Python function that lists its *free* variables (i.e., variables which are neither local nor passed as arguments). "
   ]
  },
  {
   "cell_type": "code",
   "execution_count": 25,
   "metadata": {},
   "outputs": [
    {
     "name": "stdout",
     "output_type": "stream",
     "text": [
      "(<cell at 0x111383588: int object at 0x10f2de850>,)\n"
     ]
    }
   ],
   "source": [
    "def function():\n",
    "    x = 1\n",
    "    def another_function():\n",
    "        s = 'ciao'\n",
    "        print(x)  # do something with x\n",
    "    return another_function\n",
    "\n",
    "f =  function()\n",
    "print(f.__closure__)"
   ]
  },
  {
   "cell_type": "markdown",
   "metadata": {},
   "source": [
    "In the example above, the integer `x` is a free variable of `another_function`, hence its contained in its closure.\n",
    "\n",
    "Closures allow functions to \"remember\" the context in which they were created. Example:"
   ]
  },
  {
   "cell_type": "code",
   "execution_count": 49,
   "metadata": {},
   "outputs": [
    {
     "name": "stdout",
     "output_type": "stream",
     "text": [
      "I was created at  13:15 . Msg:  ciao!\n",
      "I was created at  13:15 . Msg:  hello!\n"
     ]
    }
   ],
   "source": [
    "import datetime\n",
    "\n",
    "\n",
    "def function_w_context():\n",
    "    full_time = datetime.datetime.now() \n",
    "    creation_time = str(full_time.hour) +  ':' +str(full_time.minute)\n",
    "    def function(msg):\n",
    "        print('I was created at ', creation_time, '. Msg: ', msg)\n",
    "    return function\n",
    "\n",
    "\n",
    "f = function_w_context()\n",
    "f('ciao!')\n",
    "f('hello!')"
   ]
  },
  {
   "cell_type": "markdown",
   "metadata": {},
   "source": [
    "Hence, every time I call `f` it computes its logic but still have full access to the variables in its closure."
   ]
  },
  {
   "cell_type": "markdown",
   "metadata": {},
   "source": [
    "### Using the `nonlocal` keyword in Python 3\n",
    "It is possible to perfom computation on the variables in a closure of the function. However, the variable needs to be declared as `nonlocal` to prevent Python from reassigning the name to a local variable. In this example, I keep track of how many times I call `function`."
   ]
  },
  {
   "cell_type": "code",
   "execution_count": 58,
   "metadata": {},
   "outputs": [
    {
     "name": "stdout",
     "output_type": "stream",
     "text": [
      "Message number  1 . Msg:  ciao\n",
      "Message number  2 . Msg:  How are you\n",
      "Message number  3 . Msg:  I'm fine thanks\n"
     ]
    }
   ],
   "source": [
    "def function_w_context():\n",
    "    message_number = 0\n",
    "    def function(msg):\n",
    "        nonlocal message_number\n",
    "        message_number += 1\n",
    "        print('Message number ', message_number, '. Msg: ', msg)\n",
    "    return function\n",
    "\n",
    "\n",
    "f = function_w_context()\n",
    "f('ciao')\n",
    "f('How are you')\n",
    "f('I\\'m fine thanks')"
   ]
  },
  {
   "cell_type": "markdown",
   "metadata": {},
   "source": [
    "### Using classes instead of closures\n",
    "A closure can always be imitated by a `class`: the context is provided in the constructor, and the `__call__` method accounts for the function computation. For example, here's how the previous code looks like in a class:"
   ]
  },
  {
   "cell_type": "code",
   "execution_count": 60,
   "metadata": {},
   "outputs": [
    {
     "name": "stdout",
     "output_type": "stream",
     "text": [
      "Message number  1 . Msg:  ciao\n",
      "Message number  2 . Msg:  How are you\n",
      "Message number  3 . Msg:  I'm fine thanks\n"
     ]
    }
   ],
   "source": [
    "class FunctionWContext:\n",
    "    def __init__(self):\n",
    "        self.message_number = 0\n",
    "        \n",
    "    def __call__(self, msg: str):\n",
    "        self.message_number += 1\n",
    "        print('Message number ', self.message_number, '. Msg: ', msg)\n",
    "        \n",
    "\n",
    "f = FunctionWContext()\n",
    "f('ciao')\n",
    "f('How are you')\n",
    "f('I\\'m fine thanks')"
   ]
  }
 ],
 "metadata": {
  "kernelspec": {
   "display_name": "Python 3",
   "language": "python",
   "name": "python3"
  },
  "language_info": {
   "codemirror_mode": {
    "name": "ipython",
    "version": 3
   },
   "file_extension": ".py",
   "mimetype": "text/x-python",
   "name": "python",
   "nbconvert_exporter": "python",
   "pygments_lexer": "ipython3",
   "version": "3.6.5"
  }
 },
 "nbformat": 4,
 "nbformat_minor": 2
}
