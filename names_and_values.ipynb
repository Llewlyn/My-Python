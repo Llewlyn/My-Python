{
 "cells": [
  {
   "cell_type": "markdown",
   "metadata": {},
   "source": [
    "# Python names and variables\n",
    "\n",
    "The Python system for naming and referencing variables can appear quite confusing at first, for those coming from a different background like *C/C++*. \n",
    "\n",
    "In this notebook:\n",
    "- assignment operations.\n",
    "- mutable and non-mutable variables.\n",
    "- argument passing.\n",
    "\n",
    "### References:\n",
    "- Ned Batchelder's blog [post](https://nedbatchelder.com/text/names.html)\n",
    "- Python [official documentation on assignment statements](https://docs.python.org/3/reference/simple_stmts.html#assignment-statements). \n",
    "- Dibya Chakravorty's blog [post](https://medium.com/broken-window/many-names-one-memory-address-122f78734cb6) on assignments."
   ]
  },
  {
   "cell_type": "markdown",
   "metadata": {},
   "source": [
    "## Mutable and immutable variables"
   ]
  },
  {
   "cell_type": "markdown",
   "metadata": {},
   "source": [
    "The following snippet:"
   ]
  },
  {
   "cell_type": "code",
   "execution_count": 11,
   "metadata": {},
   "outputs": [
    {
     "data": {
      "text/plain": [
       "1"
      ]
     },
     "execution_count": 11,
     "metadata": {},
     "output_type": "execute_result"
    }
   ],
   "source": [
    "x = 1\n",
    "y = x\n",
    "x = 2\n",
    "y"
   ]
  },
  {
   "cell_type": "markdown",
   "metadata": {},
   "source": [
    "shows that updating `x` has no effect on `y` despite `y = x`. We get a better insight of what's happening by tracking the memory locations of each variable during execution:"
   ]
  },
  {
   "cell_type": "code",
   "execution_count": 47,
   "metadata": {},
   "outputs": [
    {
     "name": "stdout",
     "output_type": "stream",
     "text": [
      "x=1, id x: 4417841232\n",
      "y=x, id x: 4417841232 id y: 4417841232\n",
      "x=2, id x: 4417841264 id y: 4417841232\n"
     ]
    }
   ],
   "source": [
    "x = 1\n",
    "print('x=1, id x:', id(x))\n",
    "y = x\n",
    "print('y=x, id x:', id(x), 'id y:', id(y))\n",
    "x = 2\n",
    "print('x=2, id x:', id(x), 'id y:', id(y))"
   ]
  },
  {
   "cell_type": "markdown",
   "metadata": {},
   "source": [
    "Hence, the assignment `y=x` sets indeed the two names (`x` and `y`) to refer to the same location of memory. However, when `x=2` is executed, the name `x` is rebound to a different value. Part of the reason is that numbers are **immutable**, *e.g.*, their value cannot be changed. This means that the memory location storing `1` cannot be updated, and thus, when executing `x=2`, Python allocates the value `2` in a new location in memory, then rebinds name `x` to the new value. Numbers, strings and tuples are common examples of immutable variables. "
   ]
  },
  {
   "cell_type": "code",
   "execution_count": 48,
   "metadata": {},
   "outputs": [
    {
     "data": {
      "text/plain": [
       "[1, 2, 3, 4]"
      ]
     },
     "execution_count": 48,
     "metadata": {},
     "output_type": "execute_result"
    }
   ],
   "source": [
    "x = [1, 2, 3]\n",
    "y = x\n",
    "x.append(4)\n",
    "y"
   ]
  },
  {
   "cell_type": "markdown",
   "metadata": {},
   "source": [
    "In this case, `x.append(4)` does not reassign name `x` to a new location (as one can easily check with `id()`), but merely alters its value. In other words, it performes a change *in-place*. Variables whose value can be updated are called **mutable**. Lists, dicts and user-defined objects are example of mutable variables. Clearly, we can also rebind the name of a mutable variable to a different values using assignments. For example:"
   ]
  },
  {
   "cell_type": "code",
   "execution_count": 49,
   "metadata": {},
   "outputs": [
    {
     "data": {
      "text/plain": [
       "[1, 2, 3]"
      ]
     },
     "execution_count": 49,
     "metadata": {},
     "output_type": "execute_result"
    }
   ],
   "source": [
    "x = [1, 2, 3]\n",
    "y = x\n",
    "x = x + [4]\n",
    "y"
   ]
  },
  {
   "cell_type": "markdown",
   "metadata": {},
   "source": [
    "Here, the RHS of the assignment operation creates a new object in memory and then rebinds the name `x` to it. The rule of thumb is that assignments rebind whereas methods perform in-place changes, although this is not entirely true. A notable exception is slicing:"
   ]
  },
  {
   "cell_type": "code",
   "execution_count": 36,
   "metadata": {},
   "outputs": [
    {
     "data": {
      "text/plain": [
       "[1, 1, 3]"
      ]
     },
     "execution_count": 36,
     "metadata": {},
     "output_type": "execute_result"
    }
   ],
   "source": [
    "x = [1, 2, 3]\n",
    "x[0:2] = [1, 1]\n",
    "x"
   ]
  },
  {
   "cell_type": "markdown",
   "metadata": {},
   "source": [
    "What's the advantage of introducing immutable types in the language? The answer is performance. Consider the following snippet, and recall that strings are immutable:"
   ]
  },
  {
   "cell_type": "code",
   "execution_count": 37,
   "metadata": {},
   "outputs": [
    {
     "name": "stdout",
     "output_type": "stream",
     "text": [
      "False\n",
      "True\n"
     ]
    }
   ],
   "source": [
    "string_1 = 'hello world'\n",
    "string_2 = 'hello world'\n",
    "print(id(string_1) == id(string_2))\n",
    "string_3 = 'hello'\n",
    "string_4 = 'hello'\n",
    "print(id(string_3) == id(string_4))"
   ]
  },
  {
   "cell_type": "markdown",
   "metadata": {},
   "source": [
    "Here, Python saves memory by using the same value for the names `string_3` and `string_4`. Understanding when Python decides to *intern* variables is non-trivial (in this example, the key is the white space) and should remain transparent to user. To prevent disasters, Python makes this sort of decision only on immutable variables, and the programmer is protected not being able to mutate their values."
   ]
  },
  {
   "cell_type": "markdown",
   "metadata": {},
   "source": [
    "## Argument passing\n",
    "In Python, function arguments are always passed by reference (not by value), despite the argument being mutable or immutable. For example:"
   ]
  },
  {
   "cell_type": "code",
   "execution_count": 43,
   "metadata": {},
   "outputs": [
    {
     "name": "stdout",
     "output_type": "stream",
     "text": [
      "4452145864\n",
      "4452145864\n",
      "4417841232\n",
      "4417841232\n"
     ]
    }
   ],
   "source": [
    "def fun(x):\n",
    "    print(id(x))\n",
    "\n",
    "y = [1, 2, 3]\n",
    "print(id(y))\n",
    "fun(y)\n",
    "\n",
    "y = 1\n",
    "print(id(y))\n",
    "fun(y)"
   ]
  },
  {
   "cell_type": "markdown",
   "metadata": {},
   "source": [
    "Argument passing is a type of assignment. This means that Python executes something analogous to `x = y`, when `y` is passed to `fun`.\n",
    "Because argument passing occurs by reference, function computation can alter the values of the calling variables:"
   ]
  },
  {
   "cell_type": "code",
   "execution_count": 59,
   "metadata": {},
   "outputs": [
    {
     "name": "stdout",
     "output_type": "stream",
     "text": [
      "this is y: [1, 2, 3, 4]\n",
      "this is x: [1, 2, 3]\n"
     ]
    }
   ],
   "source": [
    "x = [1, 2]\n",
    "\n",
    "def fun(y):\n",
    "    y.append(3)\n",
    "    y = y + [4]\n",
    "    print('this is y:', y)\n",
    "    \n",
    "fun(x)\n",
    "print('this is x:', x)"
   ]
  },
  {
   "cell_type": "markdown",
   "metadata": {},
   "source": [
    "Here's what happens:\n",
    "- Line 1: `x` is assigned to a list (which is mutable).\n",
    "- Line 3: `y` is assigned to same list referenced by `x`. \n",
    "- Line 4: `y.append(3)` performs an in-place change to the value. Both `x` and `y` are updated because they refer to the same value.\n",
    "- Line 5: `y = y + [4]` creates a new list and rebinds `y` to that list. `x` remains unchanged.\n",
    "\n",
    "\n",
    "It is also possible to emulate the pass-by-value feature of C language. The most Python way is probably the following (see topic on [StackExchange](https://stackoverflow.com/questions/845110/emulating-pass-by-value-behaviour-in-python)):"
   ]
  },
  {
   "cell_type": "code",
   "execution_count": 46,
   "metadata": {},
   "outputs": [
    {
     "data": {
      "text/plain": [
       "[1, 2]"
      ]
     },
     "execution_count": 46,
     "metadata": {},
     "output_type": "execute_result"
    }
   ],
   "source": [
    "x = [1, 2]\n",
    "\n",
    "def fun(y):\n",
    "    y = y.copy()\n",
    "    y.append(3)\n",
    "\n",
    "fun(x)\n",
    "x"
   ]
  },
  {
   "cell_type": "markdown",
   "metadata": {},
   "source": [
    "`copy()` can be used on any mutable object and returns a different object with the same value. Note that we would not need to copy an immutable object because by definition we cannot update its value."
   ]
  }
 ],
 "metadata": {
  "kernelspec": {
   "display_name": "Python 3",
   "language": "python",
   "name": "python3"
  },
  "language_info": {
   "codemirror_mode": {
    "name": "ipython",
    "version": 3
   },
   "file_extension": ".py",
   "mimetype": "text/x-python",
   "name": "python",
   "nbconvert_exporter": "python",
   "pygments_lexer": "ipython3",
   "version": "3.6.5"
  }
 },
 "nbformat": 4,
 "nbformat_minor": 2
}
