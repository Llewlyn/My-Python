{
 "cells": [
  {
   "cell_type": "markdown",
   "metadata": {},
   "source": [
    "# Python names and variables\n",
    "\n",
    "Reference: Ned Batchelder's blog [post](https://nedbatchelder.com/text/names.html)"
   ]
  },
  {
   "cell_type": "markdown",
   "metadata": {},
   "source": [
    "I think of Python variable names in terms of pointers to values stored in memory. However, if so, I would expect..."
   ]
  },
  {
   "cell_type": "code",
   "execution_count": 2,
   "metadata": {},
   "outputs": [
    {
     "data": {
      "text/plain": [
       "23"
      ]
     },
     "execution_count": 2,
     "metadata": {},
     "output_type": "execute_result"
    }
   ],
   "source": [
    "x = 23\n",
    "y = x\n",
    "x = 12\n",
    "y"
   ]
  },
  {
   "cell_type": "markdown",
   "metadata": {},
   "source": [
    "...`y=12`  instead of `y=23`. The reason is that when `x = 12` Python **rebinds** pointer *x* to a new values. Instead of the word *pointer* people use *reference* or *name*. Note that if a certain value has no names referring to it, it is cleaned up by the garbage collector. Given the above snippet, the following one might feel confusing at first:"
   ]
  },
  {
   "cell_type": "code",
   "execution_count": 4,
   "metadata": {},
   "outputs": [
    {
     "data": {
      "text/plain": [
       "[1, 2, 3, 4]"
      ]
     },
     "execution_count": 4,
     "metadata": {},
     "output_type": "execute_result"
    }
   ],
   "source": [
    "x = [1, 2, 3]\n",
    "y = x\n",
    "x.append(4)\n",
    "y"
   ]
  },
  {
   "cell_type": "markdown",
   "metadata": {},
   "source": [
    "In this case, `x.append(4)` does not reassign the name `x` to a new location but alters the corresponding value. In other words, it performes a change *in-place*. There are two types of variables in Python:\n",
    "- **immutables** I can't change their value. Numbers, strings and tuples are immutable. I can, however, reassign their reference (**rebind**) to some other values.\n",
    "- **mutable**: I can changes their values in-place, usually using methods. *i.e.*, lists, dicts, user-defined objects are mutable. Clearly, I can also rebind their names to different values using assignments.\n"
   ]
  },
  {
   "cell_type": "code",
   "execution_count": null,
   "metadata": {},
   "outputs": [],
   "source": []
  }
 ],
 "metadata": {
  "kernelspec": {
   "display_name": "Python 3",
   "language": "python",
   "name": "python3"
  },
  "language_info": {
   "codemirror_mode": {
    "name": "ipython",
    "version": 3
   },
   "file_extension": ".py",
   "mimetype": "text/x-python",
   "name": "python",
   "nbconvert_exporter": "python",
   "pygments_lexer": "ipython3",
   "version": "3.6.5"
  }
 },
 "nbformat": 4,
 "nbformat_minor": 2
}
