{
 "cells": [
  {
   "cell_type": "markdown",
   "metadata": {},
   "source": [
    "# Python names and variables\n",
    "\n",
    "Coming from an *ANSI C* background, I initially found Python system for naming and referencing variables quite confusing. In this notebook, I illustrate those concepts that were non-trivial to me. The reference is Ned Batchelder's blog [post](https://nedbatchelder.com/text/names.html)"
   ]
  },
  {
   "cell_type": "markdown",
   "metadata": {},
   "source": [
    "I think of Python variable names in terms of pointers to values stored in memory. However, if so, I would expect..."
   ]
  },
  {
   "cell_type": "code",
   "execution_count": 7,
   "metadata": {},
   "outputs": [
    {
     "data": {
      "text/plain": [
       "1"
      ]
     },
     "execution_count": 7,
     "metadata": {},
     "output_type": "execute_result"
    }
   ],
   "source": [
    "x = 1\n",
    "y = x\n",
    "x = 2\n",
    "y"
   ]
  },
  {
   "cell_type": "markdown",
   "metadata": {},
   "source": [
    "...`y=2`  instead of `y=1`. The reason is that when `x = 12` Python **rebinds** pointer *x* to a new values. Instead of the word *pointer* people use *reference* or *name*. Note that if a certain value has no names referring to it, it is cleaned up by the garbage collector. \n",
    "\n",
    "Given the above snippet, the following one might feel confusing at first:"
   ]
  },
  {
   "cell_type": "code",
   "execution_count": 8,
   "metadata": {},
   "outputs": [
    {
     "data": {
      "text/plain": [
       "[1, 2, 3, 4]"
      ]
     },
     "execution_count": 8,
     "metadata": {},
     "output_type": "execute_result"
    }
   ],
   "source": [
    "x = [1, 2, 3]\n",
    "y = x\n",
    "x.append(4)\n",
    "y"
   ]
  },
  {
   "cell_type": "markdown",
   "metadata": {},
   "source": [
    "In this case, `x.append(4)` does not *assign* the name `x` to a new location but alters the corresponding value. In other words, it performes a change *in-place*. \n",
    "\n",
    "There are two types of variables in Python:\n",
    "- **immutable** I can't change their value. Numbers, strings and tuples are immutable. I can, however, reassign their reference (*rebind* or *assign*) to some other values.\n",
    "- **mutable**: I can changes their values in-place, usually using methods. *i.e.*, lists, dicts, user-defined objects are mutable. Clearly, I can also rebind their names to different values using assignments.\n",
    "\n",
    "Assignment operations are ubiquitous in Python, way beyond the `=` operator. For instance, every time a variable is passed to a function, the function local reference is assigned to the value of the variable passed. Let's take a look at the following snippet:"
   ]
  },
  {
   "cell_type": "code",
   "execution_count": 10,
   "metadata": {},
   "outputs": [
    {
     "data": {
      "text/plain": [
       "[1, 2, 3]"
      ]
     },
     "execution_count": 10,
     "metadata": {},
     "output_type": "execute_result"
    }
   ],
   "source": [
    "x = [1, 2]\n",
    "\n",
    "def fun(y):\n",
    "    y.append(3)\n",
    "\n",
    "fun(x)\n",
    "x"
   ]
  },
  {
   "cell_type": "markdown",
   "metadata": {},
   "source": [
    "Here's what happens:\n",
    "- `x` is assigned to a list which is mutable.\n",
    "- In `fun(x)`, `y` is assigned to the same list. \n",
    "- `y.append(3)` performs an in-place change to the value.\n",
    "\n",
    "The interesting point here, is that by calling `fun` we perform the assignment `y = x`. \n",
    "\n",
    "If I want to emulate the pass-by-value feature of C language, the most Python way is probably this (see topic on [StackExchange](https://stackoverflow.com/questions/845110/emulating-pass-by-value-behaviour-in-python)):"
   ]
  },
  {
   "cell_type": "code",
   "execution_count": 11,
   "metadata": {},
   "outputs": [
    {
     "data": {
      "text/plain": [
       "[1, 2]"
      ]
     },
     "execution_count": 11,
     "metadata": {},
     "output_type": "execute_result"
    }
   ],
   "source": [
    "from copy import deepcopy\n",
    "\n",
    "x = [1, 2]\n",
    "\n",
    "def fun(y):\n",
    "    y = deepcopy(y)\n",
    "    y.append(3)\n",
    "\n",
    "fun(x)\n",
    "x"
   ]
  },
  {
   "cell_type": "code",
   "execution_count": null,
   "metadata": {},
   "outputs": [],
   "source": []
  }
 ],
 "metadata": {
  "kernelspec": {
   "display_name": "Python 3",
   "language": "python",
   "name": "python3"
  },
  "language_info": {
   "codemirror_mode": {
    "name": "ipython",
    "version": 3
   },
   "file_extension": ".py",
   "mimetype": "text/x-python",
   "name": "python",
   "nbconvert_exporter": "python",
   "pygments_lexer": "ipython3",
   "version": "3.6.5"
  }
 },
 "nbformat": 4,
 "nbformat_minor": 2
}
