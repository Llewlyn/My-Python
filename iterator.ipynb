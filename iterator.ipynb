{
 "cells": [
  {
   "cell_type": "markdown",
   "metadata": {},
   "source": [
    "# Iterable vs iterator... and generator (expression)"
   ]
  },
  {
   "cell_type": "markdown",
   "metadata": {},
   "source": [
    "### Difference between iterable objects and iterators\n",
    "\n",
    "A pretty cool way to generate lists in Python is list comprehension:"
   ]
  },
  {
   "cell_type": "code",
   "execution_count": 1,
   "metadata": {},
   "outputs": [
    {
     "name": "stdout",
     "output_type": "stream",
     "text": [
      "[0, 1, 2]\n"
     ]
    },
    {
     "data": {
      "text/plain": [
       "list"
      ]
     },
     "execution_count": 1,
     "metadata": {},
     "output_type": "execute_result"
    }
   ],
   "source": [
    "l = [x for x in range(3)]\n",
    "print(l)\n",
    "type(l)"
   ]
  },
  {
   "cell_type": "markdown",
   "metadata": {},
   "source": [
    "Lists are **iterable**s, meaning that I can iterate over them. More formally, an iterable object can be passed as argument of `iter` which, in turns, call the `__iter__` method of the object (thus, to be iterable, the object must have a defined `__iter__` method)."
   ]
  },
  {
   "cell_type": "code",
   "execution_count": 2,
   "metadata": {},
   "outputs": [
    {
     "name": "stdout",
     "output_type": "stream",
     "text": [
      "<method-wrapper '__iter__' of list object at 0x105e648c8>\n"
     ]
    },
    {
     "data": {
      "text/plain": [
       "list_iterator"
      ]
     },
     "execution_count": 2,
     "metadata": {},
     "output_type": "execute_result"
    }
   ],
   "source": [
    "print(l.__iter__)\n",
    "l_it = iter(l)\n",
    "type(l_it)"
   ]
  },
  {
   "cell_type": "markdown",
   "metadata": {},
   "source": [
    "We see that `l_it` has a different type than `l`: `l_it` is an **iterator**. Iterators are the type actually used to iterate over things. Iterable objects are useful because they can be converted into iterators by means of `iter` method. Iterators can be passed to `next` (which calls the object method `__next__`) which allows iteration:"
   ]
  },
  {
   "cell_type": "code",
   "execution_count": 3,
   "metadata": {},
   "outputs": [
    {
     "name": "stdout",
     "output_type": "stream",
     "text": [
      "0\n",
      "1\n",
      "2\n"
     ]
    }
   ],
   "source": [
    "print(next(l_it))\n",
    "print(next(l_it))\n",
    "print(next(l_it))"
   ]
  },
  {
   "cell_type": "markdown",
   "metadata": {},
   "source": [
    "Iterators are cool because thanks to the `next` method, they generate only what they need thus saving memory space. For example, if we had a large list, we could instantiate several iterators from it yet none of them would occupy a worrying amount of memory.\n",
    "\n",
    "Note that `l_it` is both an iterable object and an iterator:"
   ]
  },
  {
   "cell_type": "code",
   "execution_count": 4,
   "metadata": {},
   "outputs": [
    {
     "name": "stdout",
     "output_type": "stream",
     "text": [
      "<method-wrapper '__iter__' of list_iterator object at 0x105faf470>\n",
      "<method-wrapper '__next__' of list_iterator object at 0x105faf470>\n"
     ]
    }
   ],
   "source": [
    "print(l_it.__iter__)\n",
    "print(l_it.__next__)"
   ]
  },
  {
   "cell_type": "markdown",
   "metadata": {},
   "source": [
    "The iter method in this case just returns `self`, which is useful in practice because when we write code we don't want to worry whether to use an iterable object or the corresponding iterator. For instance, in `for` loops the `iter` method is automatically applied. Having `l_it` both methods defined, I can either pass a list or its iterator to a foor loop:"
   ]
  },
  {
   "cell_type": "code",
   "execution_count": 5,
   "metadata": {},
   "outputs": [
    {
     "name": "stdout",
     "output_type": "stream",
     "text": [
      "[0, 1, 2]\n",
      "[0, 1, 2]\n"
     ]
    }
   ],
   "source": [
    "print([x for x in l])\n",
    "l_it = iter(l)\n",
    "print([x for x in l_it])"
   ]
  },
  {
   "cell_type": "markdown",
   "metadata": {},
   "source": [
    "### Generator expressions and generators\n",
    "\n",
    "**Generator expressions** are very similar to list comprehensions, except they returns a special iterator called a **generator**:"
   ]
  },
  {
   "cell_type": "code",
   "execution_count": 6,
   "metadata": {},
   "outputs": [
    {
     "name": "stdout",
     "output_type": "stream",
     "text": [
      "<generator object <genexpr> at 0x105f8f410>\n",
      "0\n"
     ]
    },
    {
     "data": {
      "text/plain": [
       "1"
      ]
     },
     "execution_count": 6,
     "metadata": {},
     "output_type": "execute_result"
    }
   ],
   "source": [
    "a = (x for x in range(10))\n",
    "print(a)\n",
    "print(next(a))\n",
    "next(a)"
   ]
  },
  {
   "cell_type": "markdown",
   "metadata": {},
   "source": [
    "Generators are also iterable, hence they can be chained together"
   ]
  },
  {
   "cell_type": "code",
   "execution_count": 7,
   "metadata": {},
   "outputs": [
    {
     "name": "stdout",
     "output_type": "stream",
     "text": [
      "<method-wrapper '__iter__' of generator object at 0x105f8f410>\n",
      "4\n"
     ]
    },
    {
     "data": {
      "text/plain": [
       "9"
      ]
     },
     "execution_count": 7,
     "metadata": {},
     "output_type": "execute_result"
    }
   ],
   "source": [
    "print(a.__iter__)\n",
    "b = (x**2 for x in a)\n",
    "print(next(b))\n",
    "next(b)"
   ]
  },
  {
   "cell_type": "markdown",
   "metadata": {},
   "source": [
    "Other then saving memory space, generators can be used to simplify syntax. If a list comprehension becomes too complicated, it is convenient to implement a helper to return a generator. The fact that following function returns a generator is made clear by the keyword `yield`. Note that the result can be turned into a `list` if needed."
   ]
  },
  {
   "cell_type": "code",
   "execution_count": 13,
   "metadata": {},
   "outputs": [
    {
     "name": "stdout",
     "output_type": "stream",
     "text": [
      "<class 'generator'>\n",
      "2\n",
      "4\n"
     ]
    },
    {
     "data": {
      "text/plain": [
       "[16, 256]"
      ]
     },
     "execution_count": 13,
     "metadata": {},
     "output_type": "execute_result"
    }
   ],
   "source": [
    "def return_list():\n",
    "    x = 2\n",
    "    while x < 1000:\n",
    "        yield x\n",
    "        x = x ** 2\n",
    "        \n",
    "\n",
    "f = return_list()\n",
    "print(type(f))\n",
    "print(next(f))\n",
    "print(next(f))\n",
    "list(f)"
   ]
  },
  {
   "cell_type": "markdown",
   "metadata": {},
   "source": [
    "What happens here is tricky:\n",
    "- When  `f = return_list()` the function is not invoked. Because there's a `yield` keyword, the Python interpreter puts it into a idle state\n",
    "- When the first `next` is invoked, the code is executed until the `yield` call.\n",
    "- Every other `next`, runs the code just after the `yield` (so `x = x ** 2`), and loops over until it find the `yield` again.\n",
    "\n",
    "\n",
    "To dig further, check the this [blog post](http://nvie.com/posts/iterators-vs-generators/) of nvie."
   ]
  }
 ],
 "metadata": {
  "kernelspec": {
   "display_name": "Python 3",
   "language": "python",
   "name": "python3"
  },
  "language_info": {
   "codemirror_mode": {
    "name": "ipython",
    "version": 3
   },
   "file_extension": ".py",
   "mimetype": "text/x-python",
   "name": "python",
   "nbconvert_exporter": "python",
   "pygments_lexer": "ipython3",
   "version": "3.6.5"
  }
 },
 "nbformat": 4,
 "nbformat_minor": 2
}
